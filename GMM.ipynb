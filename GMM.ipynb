{
 "cells": [
  {
   "cell_type": "code",
   "execution_count": 1,
   "metadata": {},
   "outputs": [],
   "source": [
    "import torch\n",
    "import torch.utils.data\n",
    "from torch import nn\n",
    "from torch.nn import functional as F\n",
    "\n",
    "import ignite\n",
    "from ignite.engine import Events, Engine\n",
    "from ignite.metrics import Accuracy, Loss\n",
    "\n",
    "import numpy as np\n",
    "import sklearn.datasets\n",
    "\n",
    "import matplotlib.pyplot as plt\n",
    "import seaborn as sns\n",
    "\n",
    "sns.set()"
   ]
  },
  {
   "cell_type": "code",
   "execution_count": 319,
   "metadata": {},
   "outputs": [],
   "source": [
    "class Model_bilinear(nn.Module):\n",
    "    def __init__(self, features, num_embeddings):\n",
    "        super().__init__()\n",
    "         \n",
    "        self.gamma = 0.99\n",
    "        self.sigma = 0.3\n",
    "        \n",
    "        embedding_size = 30\n",
    "        \n",
    "        self.fc1 = nn.Linear(2, features)\n",
    "        self.fc2 = nn.Linear(features, features)\n",
    "        self.fc3 = nn.Linear(features, features)\n",
    "        \n",
    "        self.W = nn.Parameter(torch.normal(torch.zeros(embedding_size, num_embeddings, features), 1))\n",
    "        \n",
    "        self.register_buffer('N', torch.ones(num_embeddings) * 20)\n",
    "        self.register_buffer('m', torch.normal(torch.zeros(embedding_size, num_embeddings), 1))\n",
    "#         print(\"N\", self.N.shape, self.N)\n",
    "#         print(\"m\", self.m.shape, self.m)\n",
    "        self.m = self.m * self.N.unsqueeze(0)\n",
    "#         print(\"m\", self.m.shape, self.m)\n",
    "\n",
    "    def embed(self, x):\n",
    "        x = F.relu(self.fc1(x))\n",
    "        x = F.relu(self.fc2(x))\n",
    "        x = self.fc3(x)\n",
    "        \n",
    "        # i is batch, m is embedding_size, n is num_embeddings (classes)\n",
    "        x = torch.einsum('ij,mnj->imn', x, self.W)\n",
    "        \n",
    "        return x\n",
    "\n",
    "    def bilinear(self, z):\n",
    "        embeddings = self.m / self.N.unsqueeze(0)\n",
    "#         print(\"m\", self.m.shape, embeddings)\n",
    "        diff = z - embeddings.unsqueeze(0)            \n",
    "        y_pred = (- diff**2).mean(1).div(2 * self.sigma**2).exp()\n",
    "\n",
    "        return y_pred\n",
    "\n",
    "    def forward(self, x):\n",
    "        z = self.embed(x)\n",
    "        y_pred = self.bilinear(z)\n",
    "        \n",
    "        return z, y_pred\n",
    "\n",
    "    def update_embeddings(self, x, y):\n",
    "        z = self.embed(x)\n",
    "        \n",
    "        # normalizing value per class, assumes y is one_hot encoded\n",
    "        self.N = torch.max(self.gamma * self.N + (1 - self.gamma) * y.sum(0), torch.ones_like(self.N))\n",
    "        \n",
    "        # compute sum of embeddings on class by class basis\n",
    "        features_sum = torch.einsum('ijk,ik->jk', z, y)\n",
    "        \n",
    "        self.m = self.gamma * self.m + (1 - self.gamma) * features_sum"
   ]
  },
  {
   "cell_type": "code",
   "execution_count": 320,
   "metadata": {},
   "outputs": [
    {
     "name": "stderr",
     "output_type": "stream",
     "text": [
      "'c' argument looks like a single numeric RGB or RGBA sequence, which should be avoided as value-mapping will have precedence in case its length matches with 'x' & 'y'.  Please use a 2-D array with a single row if you really want to specify the same RGB or RGBA value for all points.\n",
      "'c' argument looks like a single numeric RGB or RGBA sequence, which should be avoided as value-mapping will have precedence in case its length matches with 'x' & 'y'.  Please use a 2-D array with a single row if you really want to specify the same RGB or RGBA value for all points.\n"
     ]
    },
    {
     "data": {
      "text/plain": [
       "<matplotlib.collections.PathCollection at 0x140c004d0>"
      ]
     },
     "execution_count": 320,
     "metadata": {},
     "output_type": "execute_result"
    },
    {
     "data": {
      "image/png": "[encoded data removed]",
      "text/plain": [
       "<Figure size 432x288 with 1 Axes>"
      ]
     },
     "metadata": {},
     "output_type": "display_data"
    }
   ],
   "source": [
    "a = np.identity(2)/2\n",
    "samples = np.random.multivariate_normal([0,0], np.identity(2), 1000)\n",
    "# samples\n",
    "x_0 = samples[:,0]\n",
    "y_0 = samples[:, 1]\n",
    "colors = (0,0,0)\n",
    "# plt.figure(figsize=(20,20))\n",
    "plt.xlim(-5, 20)\n",
    "plt.ylim(-5, 20)\n",
    "plt.scatter(x_0, y_0, c=colors, alpha=0.5)\n",
    "\n",
    "samples = np.random.multivariate_normal([15,15], np.identity(2), 1000)\n",
    "\n",
    "x_15 = samples[:,0]\n",
    "y_15 = samples[:, 1]\n",
    "plt.scatter(x_15, y_15, c=colors, alpha=0.5)\n"
   ]
  },
  {
   "cell_type": "code",
   "execution_count": null,
   "metadata": {},
   "outputs": [],
   "source": []
  },
  {
   "cell_type": "code",
   "execution_count": 321,
   "metadata": {},
   "outputs": [],
   "source": [
    "def multivariate_gaussianA(n_obs):\n",
    "    return np.random.multivariate_normal([5,5], np.identity(2)/2)\n",
    "\n",
    "def multivariate_gaussianB(n_obs):\n",
    "    return np.random.multivariate_normal([15,15], np.identity(2)/2)"
   ]
  },
  {
   "cell_type": "code",
   "execution_count": 322,
   "metadata": {},
   "outputs": [],
   "source": [
    "def model_prior(batch_size, n_models, p_vals=None):\n",
    "    \"\"\"\n",
    "    Samples from the models' prior batch size times and converts to one-hot.\n",
    "    Assumes equal model priors.\n",
    "    ----------\n",
    "    \n",
    "    Arguments:\n",
    "    batch_size : int  -- the number of samples to draw from the prior\n",
    "    n_models   : int  -- the number of generative models in queston\n",
    "    ----------\n",
    "    \n",
    "    Returns:\n",
    "    m_true : np.ndarray of shape (batch_size, theta_dim) -- the samples batch of parameters\n",
    "    \"\"\"\n",
    "    \n",
    "    # Equal priors, if nothign specified\n",
    "    if p_vals is None:\n",
    "        p_vals = [1/n_models] * n_models\n",
    "    m_idx = np.random.choice(n_models, size=batch_size, p=p_vals).astype(np.int32)\n",
    "    return m_idx"
   ]
  },
  {
   "cell_type": "code",
   "execution_count": 323,
   "metadata": {},
   "outputs": [],
   "source": [
    "def data_generator(batch_size, model_prior, forward_models, alpha_smooth=None, **args):\n",
    "    \"\"\"\n",
    "    Runs the forward model 'batch_size' times by first sampling fromt the prior\n",
    "    theta ~ p(theta) and running x ~ p(x|theta).\n",
    "    ----------\n",
    "    \n",
    "    Arguments:\n",
    "    batch_size     : int -- the number of samples to draw from the prior\n",
    "    model_prior    : callable -- the prior which returns a sample of model indices\n",
    "    param_priors   : list of callables -- a list with model prior samplers\n",
    "    forward_models : list of generative models g(theta) -- a list of generatibve models\n",
    "    n_obs          : int -- the numebr of observations to draw from p(x|theta)\n",
    "    n_obs_min      : int -- used when n_obs is None, draws n_obs ~ U(n_obs_min, n_obs_max)\n",
    "    n_obs_max      : int -- used when n_obs is None, draws n_obs ~ U(n_obs_min, n_obs_max)\n",
    "    to_tensor      : boolean -- converts theta and x to tensors if True\n",
    "    ----------\n",
    "    \n",
    "    Output:\n",
    "    m     : tf.Tensor or np.ndarray of shape (batch_size, n_models) - the one-hot encoded version of the models\n",
    "    theta : tf.Tensor or np.ndarray of shape (batch_size, theta_dim) - the data gen parameters \n",
    "    x     : tf.Tensor of np.ndarray of shape (batch_size, n_obs, x_dim)  - the generated data\n",
    "    \"\"\"\n",
    "    \n",
    "    # Sample from model prior\n",
    "    # m_indices is an np.int32 array of model indices  \n",
    "    n_models = len(forward_models)\n",
    "    m_indices = model_prior(batch_size, n_models)\n",
    "\n",
    "    # For each model index, sample from prior and run generative model.\n",
    "    x = []\n",
    "\n",
    "    for m_idx in m_indices:\n",
    "        \n",
    "        # Generate data from x = g_m(theta) <=> x ~ p(x|theta,m)\n",
    "        x_m = forward_models[m_idx](1)\n",
    "#         print(x_m)\n",
    "        # Store data and params\n",
    "        x.append(x_m)\n",
    "    \n",
    "    return {'m': np.int64(m_indices), 'x': np.array(x)}"
   ]
  },
  {
   "cell_type": "code",
   "execution_count": 325,
   "metadata": {},
   "outputs": [
    {
     "name": "stderr",
     "output_type": "stream",
     "text": [
      "'c' argument looks like a single numeric RGB or RGBA sequence, which should be avoided as value-mapping will have precedence in case its length matches with 'x' & 'y'.  Please use a 2-D array with a single row if you really want to specify the same RGB or RGBA value for all points.\n"
     ]
    },
    {
     "data": {
      "text/plain": [
       "<matplotlib.collections.PathCollection at 0x140cc0950>"
      ]
     },
     "execution_count": 325,
     "metadata": {},
     "output_type": "execute_result"
    },
    {
     "data": {
      "image/png": "[encoded data removed]",
      "text/plain": [
       "<Figure size 432x288 with 1 Axes>"
      ]
     },
     "metadata": {},
     "output_type": "display_data"
    }
   ],
   "source": [
    "foward_models = [multivariate_gaussianA, multivariate_gaussianB]\n",
    "model_prior = model_prior\n",
    "\n",
    "D = data_generator(50000, model_prior, foward_models)\n",
    "T = data_generator(300, model_prior, foward_models)\n",
    "\n",
    "# D['x']\n",
    "colors = (0,0,0)\n",
    "\n",
    "# plt.xlim(-5, 20)\n",
    "# plt.ylim(-5, 20)\n",
    "\n",
    "plt.scatter(D['x'][:,0], D['x'][:,1], c=colors, alpha=0.5)"
   ]
  },
  {
   "cell_type": "code",
   "execution_count": null,
   "metadata": {},
   "outputs": [],
   "source": []
  },
  {
   "cell_type": "code",
   "execution_count": null,
   "metadata": {},
   "outputs": [],
   "source": []
  },
  {
   "cell_type": "code",
   "execution_count": 329,
   "metadata": {},
   "outputs": [],
   "source": [
    "np.random.seed(0)\n",
    "torch.manual_seed(0)\n",
    "\n",
    "l_gradient_penalty = 1\n",
    "\n",
    "# Moons\n",
    "noise = 1\n",
    "X_train, y_train = D['x'], D['m'] #sklearn.datasets.make_moons(n_samples=1500, noise=noise) #D['x'], D['m']\n",
    "X_test, y_test = T['x'], T['m'] #sklearn.datasets.make_moons(n_samples=200, noise=noise) #T['x'], T['m'] \n",
    "\n",
    "num_classes = 2\n",
    "batch_size = 64\n",
    "\n",
    "model = Model_bilinear(30, num_classes)\n",
    "\n",
    "# optimizer = torch.optim.AdamW(model.parameters(), lr=0.0001, betas=(0.9, 0.999), eps=1e-08, weight_decay=0.01, amsgrad=False)\n",
    "optimizer = torch.optim.SGD(model.parameters(), lr=0.0001, momentum=0.9, weight_decay=0.001)\n",
    "\n",
    "\n",
    "def calc_gradient_penalty(x, y_pred):\n",
    "    gradients = torch.autograd.grad(\n",
    "            outputs=y_pred,\n",
    "            inputs=x,\n",
    "            grad_outputs=torch.ones_like(y_pred),\n",
    "            create_graph=True,\n",
    "        )[0]\n",
    "\n",
    "#     print(\"x\",x)\n",
    "#     print(\"y\", y_pred)\n",
    "    gradients = gradients.flatten(start_dim=1)\n",
    "    \n",
    "    # L2 norm\n",
    "    grad_norm = gradients.norm(2, dim=1)\n",
    "#     print(\"GRAD_NORM\", grad_norm)\n",
    "    # Two sided penalty\n",
    "    gradient_penalty = ((grad_norm - 1) ** 2).mean()\n",
    "    \n",
    "    # One sided penalty - down\n",
    "#     gradient_penalty = F.relu(grad_norm - 1).mean()\n",
    "\n",
    "    return gradient_penalty\n",
    "\n",
    "\n",
    "def output_transform_acc(output):\n",
    "    y_pred, y, x, z = output\n",
    "    \n",
    "    y = torch.argmax(y, dim=1)\n",
    "        \n",
    "    return y_pred, y\n",
    "\n",
    "\n",
    "def output_transform_bce(output):\n",
    "    y_pred, y, x, z = output\n",
    "\n",
    "    return y_pred, y\n",
    "\n",
    "\n",
    "def output_transform_gp(output):\n",
    "    y_pred, y, x, z = output\n",
    "\n",
    "    return x, y_pred\n",
    "\n",
    "\n",
    "def step(engine, batch):\n",
    "    model.train()\n",
    "    optimizer.zero_grad()\n",
    "    \n",
    "    x, y = batch\n",
    "    x.requires_grad_(True)\n",
    "    \n",
    "    z, y_pred = model(x)\n",
    "    \n",
    "    loss1 =  F.binary_cross_entropy(y_pred, y)\n",
    "    loss2 = l_gradient_penalty * calc_gradient_penalty(x, y_pred)\n",
    "    \n",
    "    loss = loss1 + loss2\n",
    "    \n",
    "    loss.backward()\n",
    "    optimizer.step()\n",
    "    \n",
    "    with torch.no_grad():\n",
    "        model.update_embeddings(x, y)\n",
    "    \n",
    "    return loss.item()\n",
    "\n",
    "\n",
    "def eval_step(engine, batch):\n",
    "    model.eval()\n",
    "\n",
    "    x, y = batch\n",
    "\n",
    "    x.requires_grad_(True)\n",
    "\n",
    "    z, y_pred = model(x)\n",
    "\n",
    "    return y_pred, y, x, z\n",
    "    \n",
    "\n",
    "trainer = Engine(step)\n",
    "evaluator = Engine(eval_step)\n",
    "\n",
    "metric = Accuracy(output_transform=output_transform_acc)\n",
    "metric.attach(evaluator, \"accuracy\")\n",
    "\n",
    "metric = Loss(F.binary_cross_entropy, output_transform=output_transform_bce)\n",
    "metric.attach(evaluator, \"bce\")\n",
    "\n",
    "metric = Loss(calc_gradient_penalty, output_transform=output_transform_gp)\n",
    "metric.attach(evaluator, \"gp\")\n",
    "\n",
    "\n",
    "ds_train = torch.utils.data.TensorDataset(torch.from_numpy(X_train).float(), F.one_hot(torch.from_numpy(y_train)).float())\n",
    "dl_train = torch.utils.data.DataLoader(ds_train, batch_size=batch_size, shuffle=True, drop_last=True)\n",
    "\n",
    "ds_test = torch.utils.data.TensorDataset(torch.from_numpy(X_test).float(), F.one_hot(torch.from_numpy(y_test)).float())\n",
    "dl_test = torch.utils.data.DataLoader(ds_test, batch_size=200, shuffle=False)\n",
    "\n",
    "@trainer.on(Events.EPOCH_COMPLETED)\n",
    "def log_results(trainer):\n",
    "    evaluator.run(dl_test)\n",
    "    metrics = evaluator.state.metrics\n",
    "#     f, ax = plt.subplots(1, 1, figsize=(8, 6))\n",
    "#     x_lin = np.linspace(-10, 20, 1000).reshape(-1, 1)\n",
    "#     print(x_lin.shape)\n",
    "#     x_pdf = model(torch.Tensor(x_lin))[1].max(1)[0]\n",
    "#     ax.plot(x_lin, x_pdf.detach().numpy(), lw=2.5, alpha=0.8)\n",
    "    print(\"Test Results - Epoch: {} Acc: {:.4f} BCE: {:.2f} GP {:.2f}\"\n",
    "          .format(trainer.state.epoch, metrics['accuracy'], metrics['bce'], metrics['gp']))"
   ]
  },
  {
   "cell_type": "code",
   "execution_count": null,
   "metadata": {},
   "outputs": [],
   "source": []
  },
  {
   "cell_type": "code",
   "execution_count": 330,
   "metadata": {},
   "outputs": [
    {
     "name": "stdout",
     "output_type": "stream",
     "text": [
      "Test Results - Epoch: 1 Acc: 1.0000 BCE: 0.19 GP 0.38\n",
      "Test Results - Epoch: 2 Acc: 0.9967 BCE: 0.18 GP 0.35\n",
      "Test Results - Epoch: 3 Acc: 0.9967 BCE: 0.21 GP 0.30\n",
      "Test Results - Epoch: 4 Acc: 1.0000 BCE: 0.20 GP 0.35\n",
      "Test Results - Epoch: 5 Acc: 1.0000 BCE: 0.20 GP 0.36\n",
      "Test Results - Epoch: 6 Acc: 1.0000 BCE: 0.17 GP 0.41\n",
      "Test Results - Epoch: 7 Acc: 1.0000 BCE: 0.19 GP 0.31\n",
      "Test Results - Epoch: 8 Acc: 1.0000 BCE: 0.21 GP 0.28\n",
      "Test Results - Epoch: 9 Acc: 1.0000 BCE: 0.28 GP 0.26\n",
      "Test Results - Epoch: 10 Acc: 1.0000 BCE: 0.21 GP 0.20\n",
      "Test Results - Epoch: 11 Acc: 1.0000 BCE: 0.16 GP 0.23\n",
      "Test Results - Epoch: 12 Acc: 1.0000 BCE: 0.15 GP 0.28\n",
      "Test Results - Epoch: 13 Acc: 1.0000 BCE: 0.13 GP 0.26\n",
      "Test Results - Epoch: 14 Acc: 1.0000 BCE: 0.14 GP 0.26\n",
      "Test Results - Epoch: 15 Acc: 1.0000 BCE: 0.15 GP 0.22\n",
      "Test Results - Epoch: 16 Acc: 1.0000 BCE: 0.20 GP 0.15\n",
      "Test Results - Epoch: 17 Acc: 0.9967 BCE: 0.18 GP 0.19\n",
      "Test Results - Epoch: 18 Acc: 1.0000 BCE: 0.22 GP 0.15\n",
      "Test Results - Epoch: 19 Acc: 1.0000 BCE: 0.18 GP 0.20\n",
      "Test Results - Epoch: 20 Acc: 1.0000 BCE: 0.17 GP 0.23\n",
      "Test Results - Epoch: 21 Acc: 1.0000 BCE: 0.19 GP 0.18\n",
      "Test Results - Epoch: 22 Acc: 1.0000 BCE: 0.18 GP 0.23\n",
      "Test Results - Epoch: 23 Acc: 1.0000 BCE: 0.23 GP 0.17\n",
      "Test Results - Epoch: 24 Acc: 1.0000 BCE: 0.14 GP 0.35\n",
      "Test Results - Epoch: 25 Acc: 1.0000 BCE: 0.22 GP 0.20\n",
      "Test Results - Epoch: 26 Acc: 1.0000 BCE: 0.21 GP 0.19\n",
      "Test Results - Epoch: 27 Acc: 1.0000 BCE: 0.24 GP 0.25\n",
      "Test Results - Epoch: 28 Acc: 1.0000 BCE: 0.19 GP 0.21\n",
      "Test Results - Epoch: 29 Acc: 1.0000 BCE: 0.26 GP 0.19\n",
      "Test Results - Epoch: 30 Acc: 1.0000 BCE: 0.20 GP 0.19\n"
     ]
    },
    {
     "data": {
      "text/plain": [
       "State:\n",
       "\titeration: 23430\n",
       "\tepoch: 30\n",
       "\tepoch_length: 781\n",
       "\tmax_epochs: 30\n",
       "\toutput: 0.48269152641296387\n",
       "\tbatch: <class 'list'>\n",
       "\tmetrics: <class 'dict'>\n",
       "\tdataloader: <class 'torch.utils.data.dataloader.DataLoader'>\n",
       "\tseed: <class 'NoneType'>\n",
       "\ttimes: <class 'dict'>"
      ]
     },
     "execution_count": 330,
     "metadata": {},
     "output_type": "execute_result"
    }
   ],
   "source": [
    "trainer.run(dl_train, max_epochs=30)"
   ]
  },
  {
   "cell_type": "code",
   "execution_count": 328,
   "metadata": {},
   "outputs": [
    {
     "data": {
      "text/plain": [
       "<matplotlib.contour.QuadContourSet at 0x140ecdd10>"
      ]
     },
     "execution_count": 328,
     "metadata": {},
     "output_type": "execute_result"
    },
    {
     "data": {
      "image/png": "[encoded data removed]",
      "text/plain": [
       "<Figure size 432x288 with 1 Axes>"
      ]
     },
     "metadata": {},
     "output_type": "display_data"
    }
   ],
   "source": [
    "x_lin = np.linspace(0, 20, 1000)\n",
    "y_lin = np.linspace(0, 20, 1000)\n",
    "\n",
    "xx, yy = np.meshgrid(x_lin, y_lin)\n",
    "\n",
    "X_grid = np.column_stack([xx.flatten(), yy.flatten()])\n",
    "\n",
    "X_vis=  data_generator(1500, model_prior, foward_models)\n",
    "mask = X_vis['m'].astype(np.bool)\n",
    "\n",
    "with torch.no_grad():\n",
    "    output = model(torch.from_numpy(X_grid).float())[1]\n",
    "    confidence = output.max(1)[0].numpy()\n",
    "\n",
    "\n",
    "z = confidence.reshape(xx.shape)\n",
    "\n",
    "plt.figure()\n",
    "plt.contourf(x_lin, y_lin, z, cmap='cividis')\n",
    "\n",
    "# plt.scatter(X_vis['x'][mask,0], X_vis['x'][mask,1])\n",
    "# plt.scatter(X_vis['x'][~mask,0], X_vis['x'][~mask,1])"
   ]
  },
  {
   "cell_type": "code",
   "execution_count": null,
   "metadata": {},
   "outputs": [],
   "source": []
  },
  {
   "cell_type": "code",
   "execution_count": null,
   "metadata": {},
   "outputs": [],
   "source": []
  }
 ],
 "metadata": {
  "kernelspec": {
   "display_name": "Python 3",
   "language": "python",
   "name": "python3"
  },
  "language_info": {
   "codemirror_mode": {
    "name": "ipython",
    "version": 3
   },
   "file_extension": ".py",
   "mimetype": "text/x-python",
   "name": "python",
   "nbconvert_exporter": "python",
   "pygments_lexer": "ipython3",
   "version": "3.7.5"
  }
 },
 "nbformat": 4,
 "nbformat_minor": 2
}
