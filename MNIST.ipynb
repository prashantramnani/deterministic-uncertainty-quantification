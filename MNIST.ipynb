{
 "cells": [
  {
   "cell_type": "code",
   "execution_count": 1,
   "metadata": {},
   "outputs": [],
   "source": [
    "import torch\n",
    "import torch.utils.data\n",
    "from torch import nn\n",
    "from torch.nn import functional as F\n",
    "import torchvision\n",
    "from torchvision import datasets, transforms\n",
    "\n",
    "\n",
    "import ignite\n",
    "from ignite.engine import Events, Engine\n",
    "from ignite.metrics import Accuracy, Loss\n",
    "\n",
    "import numpy as np\n",
    "import sklearn.datasets\n",
    "from tqdm.notebook import trange, tqdm\n",
    "\n",
    "import matplotlib.pyplot as plt\n",
    "import seaborn as sns\n",
    "\n",
    "sns.set()"
   ]
  },
  {
   "cell_type": "markdown",
   "metadata": {},
   "source": [
    "## MODEL"
   ]
  },
  {
   "cell_type": "code",
   "execution_count": 2,
   "metadata": {},
   "outputs": [],
   "source": [
    "class Model(nn.Module):\n",
    "    def __init__(self):\n",
    "        super().__init__()\n",
    "\n",
    "        self.conv1 = nn.Conv2d(1, 64, 3, padding=1)\n",
    "        self.bn1 = nn.BatchNorm2d(64)\n",
    "\n",
    "        self.conv2 = nn.Conv2d(64, 128, 3, padding=1)\n",
    "        self.bn2 = nn.BatchNorm2d(128)\n",
    "\n",
    "        self.conv3 = nn.Conv2d(128, 128, 3)\n",
    "        self.bn3 = nn.BatchNorm2d(128)\n",
    "\n",
    "        self.fc1 = nn.Linear(2 * 2 * 128, 256)\n",
    "\n",
    "    def compute_features(self, x):\n",
    "        x = F.relu(self.bn1(self.conv1(x)))\n",
    "        x = F.max_pool2d(x, 2, 2)\n",
    "\n",
    "        x = F.relu(self.bn2(self.conv2(x)))\n",
    "        x = F.max_pool2d(x, 2, 2)\n",
    "\n",
    "        x = F.relu(self.bn3(self.conv3(x)))\n",
    "        x = F.max_pool2d(x, 2, 2)\n",
    "\n",
    "        x = x.flatten(1)\n",
    "\n",
    "        x = F.relu(self.fc1(x))\n",
    "\n",
    "        return x\n",
    "\n",
    "\n",
    "class CNN_DUQ(Model):\n",
    "    def __init__(\n",
    "        self,\n",
    "        input_size,\n",
    "        num_classes,\n",
    "        embedding_size,\n",
    "        learnable_length_scale,\n",
    "        length_scale,\n",
    "        gamma,\n",
    "    ):\n",
    "        super().__init__()\n",
    "\n",
    "        self.gamma = gamma\n",
    "\n",
    "        self.W = nn.Parameter(\n",
    "            torch.normal(torch.zeros(embedding_size, num_classes, 256), 0.05)\n",
    "        )\n",
    "\n",
    "        self.register_buffer(\"N\", torch.ones(num_classes) * 12)\n",
    "        self.register_buffer(\n",
    "            \"m\", torch.normal(torch.zeros(embedding_size, num_classes), 1)\n",
    "        )\n",
    "\n",
    "        self.m = self.m * self.N.unsqueeze(0)\n",
    "\n",
    "        if learnable_length_scale:\n",
    "            self.sigma = nn.Parameter(torch.zeros(num_classes) + length_scale)\n",
    "        else:\n",
    "            self.sigma = length_scale\n",
    "\n",
    "    def update_embeddings(self, x, y):\n",
    "        z = self.last_layer(self.compute_features(x))\n",
    "\n",
    "        # normalizing value per class, assumes y is one_hot encoded\n",
    "        self.N = self.gamma * self.N + (1 - self.gamma) * y.sum(0)\n",
    "\n",
    "        # compute sum of embeddings on class by class basis\n",
    "        features_sum = torch.einsum(\"ijk,ik->jk\", z, y)\n",
    "\n",
    "        self.m = self.gamma * self.m + (1 - self.gamma) * features_sum\n",
    "\n",
    "    def last_layer(self, z):\n",
    "        z = torch.einsum(\"ij,mnj->imn\", z, self.W)\n",
    "        return z\n",
    "\n",
    "    def output_layer(self, z):\n",
    "        embeddings = self.m / self.N.unsqueeze(0)\n",
    "\n",
    "        diff = z - embeddings.unsqueeze(0)\n",
    "        distances = (-(diff ** 2)).mean(1).div(2 * self.sigma ** 2).exp()\n",
    "\n",
    "        return distances\n",
    "\n",
    "    def forward(self, x):\n",
    "        z = self.last_layer(self.compute_features(x))\n",
    "        y_pred = self.output_layer(z)\n",
    "\n",
    "        return z, y_pred"
   ]
  },
  {
   "cell_type": "code",
   "execution_count": 3,
   "metadata": {},
   "outputs": [],
   "source": [
    "input_size = 28\n",
    "num_classes = 10\n",
    "embedding_size = 256\n",
    "learnable_length_scale = False\n",
    "gamma = 0.999\n",
    "# length_scales = [0.05, 0.1, 0.2, 0.3, 0.5, 1.0]\n",
    "length_scale = 0.3\n",
    "\n",
    "model = CNN_DUQ(\n",
    "    input_size,\n",
    "    num_classes,\n",
    "    embedding_size,\n",
    "    learnable_length_scale,\n",
    "    length_scale,\n",
    "    gamma,\n",
    ")\n",
    "\n",
    "optimizer = torch.optim.SGD(\n",
    "    model.parameters(), lr=0.05, momentum=0.9, weight_decay=1e-4\n",
    ")"
   ]
  },
  {
   "cell_type": "markdown",
   "metadata": {},
   "source": [
    "## Dataset"
   ]
  },
  {
   "cell_type": "code",
   "execution_count": 4,
   "metadata": {},
   "outputs": [],
   "source": [
    "transform = torchvision.transforms.ToTensor()\n",
    "\n",
    "train_dataset = torchvision.datasets.MNIST(\"./\", train=True, download=True, transform=transform)\n",
    "test_dataset = torchvision.datasets.MNIST(\"./\", download=True, transform=transform)\n",
    "\n",
    "train_loader = torch.utils.data.DataLoader(train_dataset, batch_size=128, num_workers=4, shuffle=True)\n",
    "test_loader = torch.utils.data.DataLoader(test_dataset, batch_size=128, num_workers=4, shuffle=False)"
   ]
  },
  {
   "cell_type": "code",
   "execution_count": 5,
   "metadata": {},
   "outputs": [],
   "source": [
    "dataloader_iterator = iter(train_loader)\n",
    "x, y = next(dataloader_iterator)\n",
    "y = F.one_hot(y, num_classes=10).float()\n",
    "y[0]\n",
    "# img = x[2].view(28, 28).data\n",
    "\n",
    "# plt.figure()\n",
    "# plt.imshow(img, cmap='gray')\n",
    "# plt.show()   \n",
    "# type(x[0].shape)\n",
    "# print(x[0])\n",
    "a = model(x)\n",
    "# a ** 2\n",
    "# x torch.Size([128, 1, 28, 28])\n",
    "# z torch.Size([128, 256, 10])\n",
    "# DIFF torch.Size([128, 256, 10])"
   ]
  },
  {
   "cell_type": "markdown",
   "metadata": {},
   "source": [
    "### LOSS"
   ]
  },
  {
   "cell_type": "code",
   "execution_count": 6,
   "metadata": {},
   "outputs": [],
   "source": [
    "def calc_gradient_penalty(x, y_pred_sum):\n",
    "    gradients = torch.autograd.grad(\n",
    "        outputs=y_pred_sum,\n",
    "        inputs=x,\n",
    "        grad_outputs=torch.ones_like(y_pred_sum),\n",
    "        create_graph=True,\n",
    "        retain_graph=True,\n",
    "    )[0]\n",
    "    gradients = gradients.flatten(start_dim=1)\n",
    "\n",
    "    # L2 norm\n",
    "    grad_norm = gradients.norm(2, dim=1)\n",
    "\n",
    "    # Two sided penalty\n",
    "    gradient_penalty = ((grad_norm - 1) ** 2).mean()\n",
    "\n",
    "    return gradient_penalty"
   ]
  },
  {
   "cell_type": "markdown",
   "metadata": {},
   "source": [
    "## Traning "
   ]
  },
  {
   "cell_type": "code",
   "execution_count": 9,
   "metadata": {},
   "outputs": [
    {
     "name": "stdout",
     "output_type": "stream",
     "text": [
      "iteration : 0/469 LOSS : 0.023798281326889992\n",
      "iteration : 1/469 LOSS : 0.03047027997672558\n",
      "iteration : 2/469 LOSS : 0.026705896481871605\n"
     ]
    },
    {
     "name": "stderr",
     "output_type": "stream",
     "text": [
      "Traceback (most recent call last):\n",
      "  File \"/usr/local/Cellar/python/3.7.5/Frameworks/Python.framework/Versions/3.7/lib/python3.7/multiprocessing/queues.py\", line 242, in _feed\n",
      "    send_bytes(obj)\n",
      "  File \"/usr/local/Cellar/python/3.7.5/Frameworks/Python.framework/Versions/3.7/lib/python3.7/multiprocessing/connection.py\", line 200, in send_bytes\n",
      "    self._send_bytes(m[offset:offset + size])\n",
      "  File \"/usr/local/Cellar/python/3.7.5/Frameworks/Python.framework/Versions/3.7/lib/python3.7/multiprocessing/connection.py\", line 404, in _send_bytes\n",
      "    self._send(header + buf)\n",
      "  File \"/usr/local/Cellar/python/3.7.5/Frameworks/Python.framework/Versions/3.7/lib/python3.7/multiprocessing/connection.py\", line 368, in _send\n",
      "    n = write(self._handle, buf)\n",
      "BrokenPipeError: [Errno 32] Broken pipe\n"
     ]
    },
    {
     "ename": "KeyboardInterrupt",
     "evalue": "",
     "output_type": "error",
     "traceback": [
      "\u001b[0;31m---------------------------------------------------------------------------\u001b[0m",
      "\u001b[0;31mKeyboardInterrupt\u001b[0m                         Traceback (most recent call last)",
      "\u001b[0;32m<ipython-input-9-ae1775f01b8e>\u001b[0m in \u001b[0;36m<module>\u001b[0;34m\u001b[0m\n\u001b[1;32m     34\u001b[0m         \u001b[0mz\u001b[0m\u001b[0;34m,\u001b[0m \u001b[0my_pred\u001b[0m \u001b[0;34m=\u001b[0m \u001b[0mmodel\u001b[0m\u001b[0;34m(\u001b[0m\u001b[0mx\u001b[0m\u001b[0;34m)\u001b[0m\u001b[0;34m\u001b[0m\u001b[0;34m\u001b[0m\u001b[0m\n\u001b[1;32m     35\u001b[0m         \u001b[0mbce_loss\u001b[0m \u001b[0;34m=\u001b[0m \u001b[0mF\u001b[0m\u001b[0;34m.\u001b[0m\u001b[0mbinary_cross_entropy\u001b[0m\u001b[0;34m(\u001b[0m\u001b[0my_pred\u001b[0m\u001b[0;34m,\u001b[0m \u001b[0my\u001b[0m\u001b[0;34m)\u001b[0m\u001b[0;34m\u001b[0m\u001b[0;34m\u001b[0m\u001b[0m\n\u001b[0;32m---> 36\u001b[0;31m         \u001b[0mGP_loss\u001b[0m \u001b[0;34m=\u001b[0m \u001b[0ml_gradient_penalty\u001b[0m \u001b[0;34m*\u001b[0m \u001b[0mcalc_gradient_penalty\u001b[0m\u001b[0;34m(\u001b[0m\u001b[0mx\u001b[0m\u001b[0;34m,\u001b[0m \u001b[0my_pred\u001b[0m\u001b[0;34m.\u001b[0m\u001b[0msum\u001b[0m\u001b[0;34m(\u001b[0m\u001b[0;36m1\u001b[0m\u001b[0;34m)\u001b[0m\u001b[0;34m)\u001b[0m\u001b[0;34m\u001b[0m\u001b[0;34m\u001b[0m\u001b[0m\n\u001b[0m\u001b[1;32m     37\u001b[0m         \u001b[0mtrain_loss\u001b[0m \u001b[0;34m=\u001b[0m \u001b[0mbce_loss\u001b[0m \u001b[0;34m+\u001b[0m \u001b[0mGP_loss\u001b[0m\u001b[0;34m\u001b[0m\u001b[0;34m\u001b[0m\u001b[0m\n\u001b[1;32m     38\u001b[0m         \u001b[0mx\u001b[0m\u001b[0;34m.\u001b[0m\u001b[0mrequires_grad_\u001b[0m\u001b[0;34m(\u001b[0m\u001b[0;32mFalse\u001b[0m\u001b[0;34m)\u001b[0m\u001b[0;34m\u001b[0m\u001b[0;34m\u001b[0m\u001b[0m\n",
      "\u001b[0;32m<ipython-input-6-caa872b46930>\u001b[0m in \u001b[0;36mcalc_gradient_penalty\u001b[0;34m(x, y_pred_sum)\u001b[0m\n\u001b[1;32m      5\u001b[0m         \u001b[0mgrad_outputs\u001b[0m\u001b[0;34m=\u001b[0m\u001b[0mtorch\u001b[0m\u001b[0;34m.\u001b[0m\u001b[0mones_like\u001b[0m\u001b[0;34m(\u001b[0m\u001b[0my_pred_sum\u001b[0m\u001b[0;34m)\u001b[0m\u001b[0;34m,\u001b[0m\u001b[0;34m\u001b[0m\u001b[0;34m\u001b[0m\u001b[0m\n\u001b[1;32m      6\u001b[0m         \u001b[0mcreate_graph\u001b[0m\u001b[0;34m=\u001b[0m\u001b[0;32mTrue\u001b[0m\u001b[0;34m,\u001b[0m\u001b[0;34m\u001b[0m\u001b[0;34m\u001b[0m\u001b[0m\n\u001b[0;32m----> 7\u001b[0;31m         \u001b[0mretain_graph\u001b[0m\u001b[0;34m=\u001b[0m\u001b[0;32mTrue\u001b[0m\u001b[0;34m,\u001b[0m\u001b[0;34m\u001b[0m\u001b[0;34m\u001b[0m\u001b[0m\n\u001b[0m\u001b[1;32m      8\u001b[0m     )[0]\n\u001b[1;32m      9\u001b[0m     \u001b[0mgradients\u001b[0m \u001b[0;34m=\u001b[0m \u001b[0mgradients\u001b[0m\u001b[0;34m.\u001b[0m\u001b[0mflatten\u001b[0m\u001b[0;34m(\u001b[0m\u001b[0mstart_dim\u001b[0m\u001b[0;34m=\u001b[0m\u001b[0;36m1\u001b[0m\u001b[0;34m)\u001b[0m\u001b[0;34m\u001b[0m\u001b[0;34m\u001b[0m\u001b[0m\n",
      "\u001b[0;32m/usr/local/lib/python3.7/site-packages/torch/autograd/__init__.py\u001b[0m in \u001b[0;36mgrad\u001b[0;34m(outputs, inputs, grad_outputs, retain_graph, create_graph, only_inputs, allow_unused)\u001b[0m\n\u001b[1;32m    155\u001b[0m     return Variable._execution_engine.run_backward(\n\u001b[1;32m    156\u001b[0m         \u001b[0moutputs\u001b[0m\u001b[0;34m,\u001b[0m \u001b[0mgrad_outputs\u001b[0m\u001b[0;34m,\u001b[0m \u001b[0mretain_graph\u001b[0m\u001b[0;34m,\u001b[0m \u001b[0mcreate_graph\u001b[0m\u001b[0;34m,\u001b[0m\u001b[0;34m\u001b[0m\u001b[0;34m\u001b[0m\u001b[0m\n\u001b[0;32m--> 157\u001b[0;31m         inputs, allow_unused)\n\u001b[0m\u001b[1;32m    158\u001b[0m \u001b[0;34m\u001b[0m\u001b[0m\n\u001b[1;32m    159\u001b[0m \u001b[0;34m\u001b[0m\u001b[0m\n",
      "\u001b[0;31mKeyboardInterrupt\u001b[0m: "
     ]
    }
   ],
   "source": [
    "# def eval(epoch):\n",
    "#     model.eval()\n",
    "#     test_loss = 0\n",
    "#     with torch.no_grad():\n",
    "#         for i, (data, labels) in enumerate(test_loader):\n",
    "#             recon_batch, mu, logvar = model(data.reshape(-1, 784), idx2onehot(labels.view(-1, 1)))\n",
    "#             test_loss += loss_function(recon_batch, data, mu, logvar).item()\n",
    "  \n",
    "\n",
    "\n",
    "\n",
    "\n",
    "epochs = 30\n",
    "l_gradient_penalty = 0.05\n",
    "\n",
    "for epoch in range(epochs):\n",
    "    loss = 0\n",
    "    bce = 0\n",
    "    GP = 0\n",
    "    for i, batch in enumerate(train_loader):\n",
    "#         with tqdm(total=len(train_loader), desc='Training epoch {}'.format(2)) as p_bar:\n",
    "        device = torch.device(\"cuda\" if torch.cuda.is_available() else \"cpu\")\n",
    "\n",
    "        model.train()\n",
    "        optimizer.zero_grad()\n",
    "\n",
    "        x, y = batch\n",
    "        y = F.one_hot(y, num_classes=10).float()\n",
    "\n",
    "        x, y = x.to(device), y.to(device)\n",
    "\n",
    "        x.requires_grad_(True)\n",
    "\n",
    "        z, y_pred = model(x)\n",
    "        bce_loss = F.binary_cross_entropy(y_pred, y)\n",
    "        GP_loss = l_gradient_penalty * calc_gradient_penalty(x, y_pred.sum(1))\n",
    "        train_loss = bce_loss + GP_loss\n",
    "        x.requires_grad_(False)\n",
    "\n",
    "        train_loss.backward()\n",
    "        optimizer.step()\n",
    "        with torch.no_grad():\n",
    "            model.eval()\n",
    "            model.update_embeddings(x, y)   \n",
    "        loss += train_loss.item()\n",
    "        bce += bce_loss.item()\n",
    "        GP += GP_loss.item()\n",
    "        print(\"iteration : {}/{} LOSS : {}\".format(i, len(train_loader), train_loss.item()))\n",
    "#         pbar.update(1)\n",
    "    loss = loss/len(train_loader)\n",
    "    bce = bce/len(train_loader)\n",
    "    GP = GP/len(train_loader)\n",
    "    \n",
    "#     model.eval()\n",
    "#     eval(epoch)\n",
    "    \n",
    "#     print(\n",
    "#         f\"Validation Results - Epoch: {trainer.state.epoch} \"\n",
    "#         f\"Acc: {metrics['accuracy']:.4f} \"\n",
    "#         f\"BCE: {metrics['bce']:.2f} \"\n",
    "#         f\"GP: {metrics['gradient_penalty']:.6f} \"\n",
    "#         f\"AUROC MNIST: {roc_auc_mnist:.2f} \"\n",
    "#         f\"AUROC NotMNIST: {roc_auc_notmnist:.2f} \"\n",
    "#     )\n",
    "#     print(f\"Sigma: {model.sigma}\")\n",
    "    print(\"EPOCH {}/{}, loss = {:.6f}, kl_loss = {:.6f}, bce_loss = {:.6f}\".format(epoch+1, epochs, loss, bce, GP))\n",
    "\n",
    "    torch.save(model.state_dict(), './duq_mnist_{}.pth'.format(epoch+1))"
   ]
  },
  {
   "cell_type": "code",
   "execution_count": null,
   "metadata": {},
   "outputs": [],
   "source": []
  },
  {
   "cell_type": "code",
   "execution_count": 10,
   "metadata": {},
   "outputs": [
    {
     "data": {
      "text/plain": [
       "<All keys matched successfully>"
      ]
     },
     "execution_count": 10,
     "metadata": {},
     "output_type": "execute_result"
    }
   ],
   "source": [
    "model.load_state_dict(torch.load('./cvae.pth'))"
   ]
  },
  {
   "cell_type": "code",
   "execution_count": null,
   "metadata": {},
   "outputs": [],
   "source": []
  }
 ],
 "metadata": {
  "kernelspec": {
   "display_name": "Python 3",
   "language": "python",
   "name": "python3"
  },
  "language_info": {
   "codemirror_mode": {
    "name": "ipython",
    "version": 3
   },
   "file_extension": ".py",
   "mimetype": "text/x-python",
   "name": "python",
   "nbconvert_exporter": "python",
   "pygments_lexer": "ipython3",
   "version": "3.7.5"
  }
 },
 "nbformat": 4,
 "nbformat_minor": 2
}
